{
  "nbformat": 4,
  "nbformat_minor": 0,
  "metadata": {
    "colab": {
      "name": "Untitled4.ipynb",
      "provenance": [],
      "collapsed_sections": []
    },
    "kernelspec": {
      "name": "python3",
      "display_name": "Python 3"
    },
    "language_info": {
      "name": "python"
    }
  },
  "cells": [
    {
      "cell_type": "code",
      "metadata": {
        "id": "78SsidUrbPqG"
      },
      "source": [
        "import pandas as pd"
      ],
      "execution_count": 2,
      "outputs": []
    },
    {
      "cell_type": "code",
      "metadata": {
        "colab": {
          "base_uri": "https://localhost:8080/",
          "height": 314
        },
        "id": "e-znubLybU0A",
        "outputId": "7daca335-bbd2-4f47-e673-891e5fedf476"
      },
      "source": [
        "\n",
        "'''\n",
        "Data Collection\n",
        "'''\n",
        "data=pd.read_csv('/content/USA_Housing.csv')\n",
        "\n",
        "'''\n",
        "Basic analysis of dataset\n",
        "using functions like:\n",
        "head()\n",
        "describe()\n",
        "info()\n",
        "tail()\n",
        "\n",
        "'''\n",
        "data.head()\n",
        "\n",
        "data.describe()\n",
        "\n"
      ],
      "execution_count": 4,
      "outputs": [
        {
          "output_type": "execute_result",
          "data": {
            "text/html": [
              "<div>\n",
              "<style scoped>\n",
              "    .dataframe tbody tr th:only-of-type {\n",
              "        vertical-align: middle;\n",
              "    }\n",
              "\n",
              "    .dataframe tbody tr th {\n",
              "        vertical-align: top;\n",
              "    }\n",
              "\n",
              "    .dataframe thead th {\n",
              "        text-align: right;\n",
              "    }\n",
              "</style>\n",
              "<table border=\"1\" class=\"dataframe\">\n",
              "  <thead>\n",
              "    <tr style=\"text-align: right;\">\n",
              "      <th></th>\n",
              "      <th>Avg. Area Income</th>\n",
              "      <th>Avg. Area House Age</th>\n",
              "      <th>Avg. Area Number of Rooms</th>\n",
              "      <th>Avg. Area Number of Bedrooms</th>\n",
              "      <th>Area Population</th>\n",
              "      <th>Price</th>\n",
              "    </tr>\n",
              "  </thead>\n",
              "  <tbody>\n",
              "    <tr>\n",
              "      <th>count</th>\n",
              "      <td>5000.000000</td>\n",
              "      <td>5000.000000</td>\n",
              "      <td>5000.000000</td>\n",
              "      <td>5000.000000</td>\n",
              "      <td>5000.000000</td>\n",
              "      <td>5.000000e+03</td>\n",
              "    </tr>\n",
              "    <tr>\n",
              "      <th>mean</th>\n",
              "      <td>68583.108984</td>\n",
              "      <td>5.977222</td>\n",
              "      <td>6.987792</td>\n",
              "      <td>3.981330</td>\n",
              "      <td>36163.516039</td>\n",
              "      <td>1.232073e+06</td>\n",
              "    </tr>\n",
              "    <tr>\n",
              "      <th>std</th>\n",
              "      <td>10657.991214</td>\n",
              "      <td>0.991456</td>\n",
              "      <td>1.005833</td>\n",
              "      <td>1.234137</td>\n",
              "      <td>9925.650114</td>\n",
              "      <td>3.531176e+05</td>\n",
              "    </tr>\n",
              "    <tr>\n",
              "      <th>min</th>\n",
              "      <td>17796.631190</td>\n",
              "      <td>2.644304</td>\n",
              "      <td>3.236194</td>\n",
              "      <td>2.000000</td>\n",
              "      <td>172.610686</td>\n",
              "      <td>1.593866e+04</td>\n",
              "    </tr>\n",
              "    <tr>\n",
              "      <th>25%</th>\n",
              "      <td>61480.562390</td>\n",
              "      <td>5.322283</td>\n",
              "      <td>6.299250</td>\n",
              "      <td>3.140000</td>\n",
              "      <td>29403.928700</td>\n",
              "      <td>9.975771e+05</td>\n",
              "    </tr>\n",
              "    <tr>\n",
              "      <th>50%</th>\n",
              "      <td>68804.286405</td>\n",
              "      <td>5.970429</td>\n",
              "      <td>7.002902</td>\n",
              "      <td>4.050000</td>\n",
              "      <td>36199.406690</td>\n",
              "      <td>1.232669e+06</td>\n",
              "    </tr>\n",
              "    <tr>\n",
              "      <th>75%</th>\n",
              "      <td>75783.338665</td>\n",
              "      <td>6.650808</td>\n",
              "      <td>7.665871</td>\n",
              "      <td>4.490000</td>\n",
              "      <td>42861.290770</td>\n",
              "      <td>1.471210e+06</td>\n",
              "    </tr>\n",
              "    <tr>\n",
              "      <th>max</th>\n",
              "      <td>107701.748400</td>\n",
              "      <td>9.519088</td>\n",
              "      <td>10.759588</td>\n",
              "      <td>6.500000</td>\n",
              "      <td>69621.713380</td>\n",
              "      <td>2.469066e+06</td>\n",
              "    </tr>\n",
              "  </tbody>\n",
              "</table>\n",
              "</div>"
            ],
            "text/plain": [
              "       Avg. Area Income  Avg. Area House Age  ...  Area Population         Price\n",
              "count       5000.000000          5000.000000  ...      5000.000000  5.000000e+03\n",
              "mean       68583.108984             5.977222  ...     36163.516039  1.232073e+06\n",
              "std        10657.991214             0.991456  ...      9925.650114  3.531176e+05\n",
              "min        17796.631190             2.644304  ...       172.610686  1.593866e+04\n",
              "25%        61480.562390             5.322283  ...     29403.928700  9.975771e+05\n",
              "50%        68804.286405             5.970429  ...     36199.406690  1.232669e+06\n",
              "75%        75783.338665             6.650808  ...     42861.290770  1.471210e+06\n",
              "max       107701.748400             9.519088  ...     69621.713380  2.469066e+06\n",
              "\n",
              "[8 rows x 6 columns]"
            ]
          },
          "metadata": {
            "tags": []
          },
          "execution_count": 4
        }
      ]
    },
    {
      "cell_type": "code",
      "metadata": {
        "colab": {
          "base_uri": "https://localhost:8080/",
          "height": 282
        },
        "id": "TPiKP0kgbcf3",
        "outputId": "c949c2d9-6e8a-4809-f0d1-4436a157a87c"
      },
      "source": [
        "'''Data analysis(EDA) Visualization\n",
        "1)check the no. of values in target\n",
        "--Use COUNTPLOT\n",
        "library:seaborn\n",
        "plot:countplot()\n",
        "'''\n",
        "import seaborn as sb\n",
        "sb.countplot(data=data)\n",
        "\n"
      ],
      "execution_count": 5,
      "outputs": [
        {
          "output_type": "execute_result",
          "data": {
            "text/plain": [
              "<matplotlib.axes._subplots.AxesSubplot at 0x7f8dfb02ab90>"
            ]
          },
          "metadata": {
            "tags": []
          },
          "execution_count": 5
        },
        {
          "output_type": "display_data",
          "data": {
            "image/png": "[encoded data removed]",
            "text/plain": [
              "<Figure size 432x288 with 1 Axes>"
            ]
          },
          "metadata": {
            "tags": [],
            "needs_background": "light"
          }
        }
      ]
    },
    {
      "cell_type": "code",
      "metadata": {
        "colab": {
          "base_uri": "https://localhost:8080/",
          "height": 891
        },
        "id": "LcS8XbxqnHwE",
        "outputId": "3429f3db-1759-4235-cf26-95c5be35fc2e"
      },
      "source": [
        "'''\n",
        "2.BOX AND WHISKER PLOT\n",
        "plots on the dataframe\n",
        "'''\n",
        "data.plot(kind='box',figsize=(15,15))"
      ],
      "execution_count": null,
      "outputs": [
        {
          "output_type": "execute_result",
          "data": {
            "text/plain": [
              "<matplotlib.axes._subplots.AxesSubplot at 0x7fada01f1690>"
            ]
          },
          "metadata": {
            "tags": []
          },
          "execution_count": 62
        },
        {
          "output_type": "display_data",
          "data": {
            "image/png": "[encoded data removed]",
            "text/plain": [
              "<Figure size 1080x1080 with 1 Axes>"
            ]
          },
          "metadata": {
            "tags": [],
            "needs_background": "light"
          }
        }
      ]
    },
    {
      "cell_type": "code",
      "metadata": {
        "colab": {
          "base_uri": "https://localhost:8080/",
          "height": 293
        },
        "id": "_w1-Kmawnb4I",
        "outputId": "1e2ee7c7-03d7-41e1-868b-4ad30cdac4d9"
      },
      "source": [
        "'''\n",
        "3.Scatter plot \n",
        "matplotlib --> pyplot --> .scatter()\n",
        "\n",
        "'''\n",
        "from matplotlib import pyplot\n",
        "#Area Population (x-axis) vs Price(y-axis)\n",
        "pyplot.scatter(data['Area Population'],data['Price'])"
      ],
      "execution_count": null,
      "outputs": [
        {
          "output_type": "execute_result",
          "data": {
            "text/plain": [
              "<matplotlib.collections.PathCollection at 0x7fada01b5890>"
            ]
          },
          "metadata": {
            "tags": []
          },
          "execution_count": 64
        },
        {
          "output_type": "display_data",
          "data": {
            "image/png": "[encoded data removed]",
            "text/plain": [
              "<Figure size 432x288 with 1 Axes>"
            ]
          },
          "metadata": {
            "tags": [],
            "needs_background": "light"
          }
        }
      ]
    },
    {
      "cell_type": "code",
      "metadata": {
        "id": "wS8jDYCZbfna"
      },
      "source": [
        "'''\n",
        "Data Cleaning\n",
        "Remove address because it has no significance\n",
        "'''\n",
        "data.drop('Address',axis=1,inplace=True)\n"
      ],
      "execution_count": 6,
      "outputs": []
    },
    {
      "cell_type": "code",
      "metadata": {
        "colab": {
          "base_uri": "https://localhost:8080/",
          "height": 204
        },
        "id": "gwlQl200gKGL",
        "outputId": "babecf3d-dc94-437a-a779-a3404181281e"
      },
      "source": [
        "data.head()"
      ],
      "execution_count": null,
      "outputs": [
        {
          "output_type": "execute_result",
          "data": {
            "text/html": [
              "<div>\n",
              "<style scoped>\n",
              "    .dataframe tbody tr th:only-of-type {\n",
              "        vertical-align: middle;\n",
              "    }\n",
              "\n",
              "    .dataframe tbody tr th {\n",
              "        vertical-align: top;\n",
              "    }\n",
              "\n",
              "    .dataframe thead th {\n",
              "        text-align: right;\n",
              "    }\n",
              "</style>\n",
              "<table border=\"1\" class=\"dataframe\">\n",
              "  <thead>\n",
              "    <tr style=\"text-align: right;\">\n",
              "      <th></th>\n",
              "      <th>Avg. Area Income</th>\n",
              "      <th>Avg. Area House Age</th>\n",
              "      <th>Avg. Area Number of Rooms</th>\n",
              "      <th>Avg. Area Number of Bedrooms</th>\n",
              "      <th>Area Population</th>\n",
              "      <th>Price</th>\n",
              "    </tr>\n",
              "  </thead>\n",
              "  <tbody>\n",
              "    <tr>\n",
              "      <th>0</th>\n",
              "      <td>79545.45857</td>\n",
              "      <td>5.682861</td>\n",
              "      <td>7.009188</td>\n",
              "      <td>4.09</td>\n",
              "      <td>23086.80050</td>\n",
              "      <td>1.059034e+06</td>\n",
              "    </tr>\n",
              "    <tr>\n",
              "      <th>1</th>\n",
              "      <td>79248.64245</td>\n",
              "      <td>6.002900</td>\n",
              "      <td>6.730821</td>\n",
              "      <td>3.09</td>\n",
              "      <td>40173.07217</td>\n",
              "      <td>1.505891e+06</td>\n",
              "    </tr>\n",
              "    <tr>\n",
              "      <th>2</th>\n",
              "      <td>61287.06718</td>\n",
              "      <td>5.865890</td>\n",
              "      <td>8.512727</td>\n",
              "      <td>5.13</td>\n",
              "      <td>36882.15940</td>\n",
              "      <td>1.058988e+06</td>\n",
              "    </tr>\n",
              "    <tr>\n",
              "      <th>3</th>\n",
              "      <td>63345.24005</td>\n",
              "      <td>7.188236</td>\n",
              "      <td>5.586729</td>\n",
              "      <td>3.26</td>\n",
              "      <td>34310.24283</td>\n",
              "      <td>1.260617e+06</td>\n",
              "    </tr>\n",
              "    <tr>\n",
              "      <th>4</th>\n",
              "      <td>59982.19723</td>\n",
              "      <td>5.040555</td>\n",
              "      <td>7.839388</td>\n",
              "      <td>4.23</td>\n",
              "      <td>26354.10947</td>\n",
              "      <td>6.309435e+05</td>\n",
              "    </tr>\n",
              "  </tbody>\n",
              "</table>\n",
              "</div>"
            ],
            "text/plain": [
              "   Avg. Area Income  Avg. Area House Age  ...  Area Population         Price\n",
              "0       79545.45857             5.682861  ...      23086.80050  1.059034e+06\n",
              "1       79248.64245             6.002900  ...      40173.07217  1.505891e+06\n",
              "2       61287.06718             5.865890  ...      36882.15940  1.058988e+06\n",
              "3       63345.24005             7.188236  ...      34310.24283  1.260617e+06\n",
              "4       59982.19723             5.040555  ...      26354.10947  6.309435e+05\n",
              "\n",
              "[5 rows x 6 columns]"
            ]
          },
          "metadata": {
            "tags": []
          },
          "execution_count": 52
        }
      ]
    },
    {
      "cell_type": "code",
      "metadata": {
        "id": "1L8WdetjcVno"
      },
      "source": [
        "'''\n",
        "Data Splitting\n",
        "\n",
        "-to split the universal dataset\n",
        "Library: sklearn\n",
        "module: model_selection\n",
        "class:train_test_split\n",
        "\n",
        "'''\n",
        "\n",
        "from sklearn.model_selection import train_test_split as tts\n",
        "x=data.iloc[:,:-1]\n",
        "y=data.iloc[:,-1]\n",
        "x_train,x_test,y_train,y_test=tts(x,y,test_size=0.2,random_state=43)"
      ],
      "execution_count": 10,
      "outputs": []
    },
    {
      "cell_type": "code",
      "metadata": {
        "id": "atnAm30Aeh9K"
      },
      "source": [
        "'''\n",
        "Selection of algorithm:\n",
        "ML- SL -Classification\n",
        "Regression target values\n",
        "Price value is continuous\n",
        "i] LinearRegression\n",
        "    library: sklearn\n",
        "    module : linear_model\n",
        "    class :LinearRegression\n",
        "'''\n",
        "from sklearn.linear_model import LinearRegression\n",
        "linreg=LinearRegression()"
      ],
      "execution_count": 11,
      "outputs": []
    },
    {
      "cell_type": "code",
      "metadata": {
        "id": "-A9dodRZgqZv"
      },
      "source": [
        "'''\n",
        "Training(learning part)\n",
        "Fit the training data to the algorithm (linreg)\n",
        "ModelName.fit(Training)\n",
        "\n",
        "'''\n",
        "linreg.fit(x_train,y_train)\n",
        "linreg_pred=linreg.predict(x_test)\n"
      ],
      "execution_count": 12,
      "outputs": []
    },
    {
      "cell_type": "code",
      "metadata": {
        "id": "rAsLhwaJgsQT"
      },
      "source": [
        "'''\n",
        "Testing (check efficiency of algorithm)\n",
        "1. Predict the outcomes of new data\n",
        "ModelName.predict(Features-of-testing-set)\n",
        "\n",
        "2)Check accuracy of algo (testing set)\n",
        "ModelName.score(Arrays-of-testing-set)\n",
        "'''\n",
        "\n",
        "\n",
        "linreg_accuracy=linreg.score(x_test,y_test)"
      ],
      "execution_count": 13,
      "outputs": []
    },
    {
      "cell_type": "code",
      "metadata": {
        "colab": {
          "base_uri": "https://localhost:8080/"
        },
        "id": "BWgbhE8mjmUV",
        "outputId": "470cb95f-0228-4535-9c25-35316e0fd6d0"
      },
      "source": [
        "#accuracy is 92.29%\n",
        "\n",
        "linreg_accuracy"
      ],
      "execution_count": 14,
      "outputs": [
        {
          "output_type": "execute_result",
          "data": {
            "text/plain": [
              "0.9229142340371462"
            ]
          },
          "metadata": {
            "tags": []
          },
          "execution_count": 14
        }
      ]
    },
    {
      "cell_type": "code",
      "metadata": {
        "id": "a8yUluygjnpn"
      },
      "source": [
        "'''\n",
        "Saving the model for reusing\n",
        "\n",
        "-- pickle:\n",
        "      Save: open file with write binary mode & save it using:\n",
        "      dump(ModelName,,FileName)\n",
        "      extensions: pkl ,sav\n",
        "  Load: readbinary mode \n",
        "    load(Filename)\n",
        "'''\n",
        "filename='DlitheLinRegModel.pkl'\n",
        "import pickle\n",
        "file=open(filename,\"wb\")\n",
        "# pickle.dump()\n",
        "pickle.dump(linreg\n",
        "            ,file)"
      ],
      "execution_count": 15,
      "outputs": []
    },
    {
      "cell_type": "code",
      "metadata": {
        "id": "RjZJEIN1jvlw"
      },
      "source": [
        ""
      ],
      "execution_count": null,
      "outputs": []
    }
  ]
}